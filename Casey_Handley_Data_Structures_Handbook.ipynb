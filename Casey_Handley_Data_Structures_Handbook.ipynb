{
  "nbformat": 4,
  "nbformat_minor": 0,
  "metadata": {
    "colab": {
      "provenance": [],
      "toc_visible": true,
      "include_colab_link": true
    },
    "kernelspec": {
      "name": "python3",
      "display_name": "Python 3"
    }
  },
  "cells": [
    {
      "cell_type": "markdown",
      "metadata": {
        "id": "view-in-github",
        "colab_type": "text"
      },
      "source": [
        "<a href=\"https://colab.research.google.com/github/caseyHandleyOSU/DataStructuresHandbook/blob/main/Casey_Handley_Data_Structures_Handbook.ipynb\" target=\"_parent\"><img src=\"https://colab.research.google.com/assets/colab-badge.svg\" alt=\"Open In Colab\"/></a>"
      ]
    },
    {
      "cell_type": "markdown",
      "metadata": {
        "id": "W5SAJnnfs2f9"
      },
      "source": [
        "# Introduction\n",
        "This notebook contains information on different types of algorithms and data structures, along with their importance."
      ]
    },
    {
      "cell_type": "markdown",
      "metadata": {
        "id": "MKpKXt77s456"
      },
      "source": [
        "## Why are Data Structures important?\n",
        "Data Structures act as a way to categorize and store information. This can be exceptionally helpful for a variety of reasons, since data is at the core of programs. Each data structure offers a unique way to store information, and they can be tailored to specific situations."
      ]
    },
    {
      "cell_type": "markdown",
      "metadata": {
        "id": "MmrgF4sMtUTN"
      },
      "source": [
        "# Dynamic Array"
      ]
    },
    {
      "cell_type": "markdown",
      "metadata": {
        "id": "TIh3hkG-t25g"
      },
      "source": [
        "## Concept\n",
        "\n",
        "Describe the data structure conceptually. What is it? What is it good for? Include sketches and diagrams that help illustrate your point.\n",
        "\n",
        "Dynamic Arrays are a form of array that automatically resize, allowing for adding more elements easily. They're useful for storing data that's accumulated at runtime, and allow for easy retrieval of information. They are indexed, similar to Static Arrays, and iterable.\n",
        "\n",
        "![DynArray.png](data:image/png;base64,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)"
      ]
    },
    {
      "cell_type": "markdown",
      "source": [
        "## Abstract Data Type: API & Efficiency\n",
        "\n",
        "Datatypes for Dynamic Arrays can vary from primitive types to objects. Common operations include:\n",
        "\n",
        "\n",
        "*   **Adding** -- Also referred to as appending, this process adds an element to the end of the array. This is typically O(1).\n",
        "*   **Insertion** -- This operation inserts an element at a specified index, shifting other elements around to make space. The complexity of this operation can vary, but it's worst-case is O(n).\n",
        "*   **Deletion** -- This operation deletes a specified value (or index) from the array, shifting elements around if neccessary. The complexity of this operation can vary, but it's worst-case is O(n).\n",
        "*   **Finding** -- This operation determines if a specified value is contained within the array, and returns the first index of it's occurance. Worst case complexity: O(n).\n",
        "*   **Clearing** -- This operation clears all elements and resets the dynamic array to empty. Complexity is usually O(1).\n",
        "* **Sorting** -- This operation sorts the array. Complexity can vary, depending on the algorithm used (Linear: O(n) & Binary: O(nlogn))\n",
        "* **Summation** -- If applicable, returns the sum of all elements within the array. Complexity: O(n)\n",
        "* **Mins/Maxes** - These operations return the largest/smallest values in the array. Complexity: O(n)\n"
      ],
      "metadata": {
        "id": "63qg51G0f_n-"
      }
    },
    {
      "cell_type": "code",
      "source": [
        "list=[\"apples\", \"bananas\", \"no doubt\"]\n",
        "...."
      ],
      "metadata": {
        "id": "zOCPKc9YXZ8c",
        "colab": {
          "base_uri": "https://localhost:8080/",
          "height": 140
        },
        "outputId": "c2a28dd1-67ab-491a-f469-38d62ffece63"
      },
      "execution_count": null,
      "outputs": [
        {
          "output_type": "error",
          "ename": "SyntaxError",
          "evalue": "invalid syntax (<ipython-input-1-24d5fe41da0d>, line 2)",
          "traceback": [
            "\u001b[0;36m  File \u001b[0;32m\"<ipython-input-1-24d5fe41da0d>\"\u001b[0;36m, line \u001b[0;32m2\u001b[0m\n\u001b[0;31m    ....\u001b[0m\n\u001b[0m        ^\u001b[0m\n\u001b[0;31mSyntaxError\u001b[0m\u001b[0;31m:\u001b[0m invalid syntax\n"
          ]
        }
      ]
    },
    {
      "cell_type": "markdown",
      "metadata": {
        "id": "qlZGVsiNBk-N"
      },
      "source": [
        "## Implementation & Efficiency\n",
        "\n",
        "A dynamic array is typically implemented by the creation of a class where a traditional static array stores the structure's data. The class automatically handles resizing/copying of this static array, so the user doesn't have to. This means whenever the array needs to add an element that would be out-of-bounds in the static array, a new static array needs to be created with a larger size (usually 2x) and all the data copied over. The complexity for this is O(n), due to the data needing to be copied from the old array to the new one, but since a dynamic array usually doubles in size each time this is does not need to be performed often.\n",
        "\n",
        "\n",
        "The following code implements my *Insert* method from my *Dynamic Arrays* implementation.  This code's time complexity is *O(n-index)* because it must shift all values from *index* to the end of the array over one element.\n",
        "\n"
      ]
    },
    {
      "cell_type": "code",
      "source": [
        "def insert(self, index, value):\n",
        "        if self.is_full():\n",
        "            self.resize()\n",
        "            self.insert(index, value)\n",
        "        elif self.index_valid(index):\n",
        "            self.shiftR(index)\n",
        "            self.data[index] = value\n",
        "            self.next_index += 1\n",
        "        else:\n",
        "            raise IndexError(\"index out of range.\")"
      ],
      "metadata": {
        "id": "IdMZ12OhXGWQ"
      },
      "execution_count": null,
      "outputs": []
    },
    {
      "cell_type": "markdown",
      "source": [
        "##Use cases\n",
        "\n",
        "This data structure is useful whenever a dataset is required to grow.\n",
        "\n",
        "Examples:\n",
        "\n",
        "*   A dynamic array could be used to store references to game objects within a video game.\n",
        "*   Dynamic arrays could also be used when creating a spreadsheet, to store a dynamic number of cells.\n",
        "*   Dynamic arrays would also be useful in storing user inputs, to provide a sort of 'history' feature or as reference.\n"
      ],
      "metadata": {
        "id": "22gf5l6-iphU"
      }
    },
    {
      "cell_type": "markdown",
      "source": [
        "#Searching Algortihms"
      ],
      "metadata": {
        "id": "p5uoscxi232K"
      }
    },
    {
      "cell_type": "markdown",
      "source": [
        "##Linear Search\n",
        "\n",
        "*   Describe how it works\n",
        "*   Describe its time complexity\n",
        "\n",
        "\n"
      ],
      "metadata": {
        "id": "YlnqdArL28wx"
      }
    },
    {
      "cell_type": "markdown",
      "source": [
        "##Binary Search\n",
        "\n",
        "\n",
        "*   Describe how it works\n",
        "*   Describe its time complexity   "
      ],
      "metadata": {
        "id": "aqbnK95m3PfH"
      }
    },
    {
      "cell_type": "markdown",
      "source": [
        "#Sorting Algortihms"
      ],
      "metadata": {
        "id": "ZglZVy5l3hcZ"
      }
    },
    {
      "cell_type": "markdown",
      "source": [
        "##Insertion Sort\n",
        "\n",
        "* Describe how it works\n",
        "* Describe its time complexity\n",
        "* Describe its space complexity\n",
        "* Describe its benefits & drawbacks\n",
        "\n"
      ],
      "metadata": {
        "id": "XgVEur5Y3p-N"
      }
    },
    {
      "cell_type": "markdown",
      "source": [
        "##Selection Sort\n",
        "\n",
        "* Describe how it works\n",
        "* Describe its time complexity\n",
        "* Describe its space complexity\n",
        "* Describe its benefits & drawbacks\n",
        "\n"
      ],
      "metadata": {
        "id": "W9P84vpn-mAr"
      }
    },
    {
      "cell_type": "markdown",
      "source": [
        "##Merge Sort\n",
        "\n",
        "* Describe how it works\n",
        "* Describe its time complexity\n",
        "* Describe its space complexity\n",
        "* Describe its benefits & drawbacks\n",
        "\n"
      ],
      "metadata": {
        "id": "Ps0Z8_jW-mKl"
      }
    },
    {
      "cell_type": "markdown",
      "source": [
        "##Quick Sort\n",
        "\n",
        "* Describe how it works\n",
        "* Describe its time complexity\n",
        "* Describe its space complexity\n",
        "* Describe its benefits & drawbacks\n",
        "\n"
      ],
      "metadata": {
        "id": "473llwqR-mSR"
      }
    },
    {
      "cell_type": "markdown",
      "metadata": {
        "id": "47Y6aHONDYW1"
      },
      "source": [
        "# Hash Table"
      ]
    },
    {
      "cell_type": "markdown",
      "metadata": {
        "id": "ZKYanhqqDuGA"
      },
      "source": [
        "## Concept\n",
        "\n",
        "Describe the data structure conceptually. What is it? What is it good for? Include sketches and diagrams that help illustrate your point."
      ]
    },
    {
      "cell_type": "markdown",
      "source": [
        "## Abstract Data Type: API & Efficiency\n",
        "\n",
        "What is the abstract data type for this data structure? Describe the operations you can perform with the data structure, including the typical name and what the operation does. Describe the algorithmic complexity of each operation in Big O notation."
      ],
      "metadata": {
        "id": "k2E4JVC_DuGA"
      }
    },
    {
      "cell_type": "code",
      "source": [
        "list=[\"apples\", \"bananas\", \"no doubt\"]\n",
        "...."
      ],
      "metadata": {
        "id": "3ydRAkdDDuGA"
      },
      "execution_count": null,
      "outputs": []
    },
    {
      "cell_type": "markdown",
      "metadata": {
        "id": "CktT_O-uEL8R"
      },
      "source": [
        "## Implementation & Efficiency\n",
        "\n",
        "Discuss the typical implementation of the data structure (eg. \"typically implemented with a binary heap.\") and explain how the implementation influences the algorithmic complexity of the operations. Explain _why_ the API operations perform in the time complexity they do, in terms of the implementation. Include snippets of code from your implementation to explain the _why_\n",
        "\n",
        "The following code implements my *TODO* method from my *TODO* implementation.  This code's time complexity is *TODO* because *TODO*.\n",
        "\n"
      ]
    },
    {
      "cell_type": "code",
      "source": [
        "def append(self, value):\n",
        "  ..."
      ],
      "metadata": {
        "id": "kT5X6s3hEPk5"
      },
      "execution_count": null,
      "outputs": []
    },
    {
      "cell_type": "markdown",
      "source": [
        "##Use cases\n",
        "When is this data structure useful. Give some examples of when you might reach for this data structure when solving a problem and/or some problems that typically utilize this data structure."
      ],
      "metadata": {
        "id": "caXr_hFkETVh"
      }
    },
    {
      "cell_type": "code",
      "source": [],
      "metadata": {
        "id": "j1PL-coyeWyQ"
      },
      "execution_count": null,
      "outputs": []
    }
  ]
}